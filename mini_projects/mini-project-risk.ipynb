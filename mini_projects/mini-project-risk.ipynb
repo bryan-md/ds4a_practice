{
 "cells": [
  {
   "cell_type": "markdown",
   "metadata": {},
   "source": [
    "# Risk Mini-Project"
   ]
  },
  {
   "cell_type": "markdown",
   "metadata": {},
   "source": [
    "First lets review the Risk rules:\n",
    "**Combat Rules**\n",
    "- There is an attacker and a defender.\n",
    "- The attacker rolls 3 dice if they have 3 or more units, 2 dice if they have 2 units, and 1 die if they only have 1 unit. <sup>1</sup>\n",
    "- The defender rolls 2 dice if they have 2 or more units, and 1 die if they only have 1 unit. <sup>2</sup>\n",
    "- All dice are standard 6-sided dice with an equal chance of rolling any number between 1 and 6, inclusive.\n",
    "- The attacker can choose to stop the battle at any time.<sup>3**</sup>\n",
    "- **Match the highest attacking die to the highest defending die - the side with the lower number loses a unit. The defender always wins ties. <sup>4</sup>**\n",
    "- **If both sides rolled a second die, match the second-highest attacking die to the second-highest defending die - the side with the lower number loses a unit. The defender always wins ties.**\n",
    "\n",
    "\n",
    "The python app needs to take three numbers as inputs:\n",
    "1. The number of attacking units\n",
    "2. The number of defending units\n",
    "3. The number of units the attacker is willing to lose before they call off the attack (**this can be equal to or less than the number of units they are attacking with)<sup>5</sup>**\n",
    "Then determine the outcome of the combat based on them. Your app should **simulate as many rounds of combat as needed<sup>6</sup>** **to reduce the number of defenders to 0 or the number of attackers to their pre-set threshold.**<br><br>\n",
    "\n",
    "In terms of the expected output, we only need to know 2 things:\n",
    "1. The number of attackers remaining after the battle\n",
    "2. The number of defenders remaining after the battle <br>\n",
    "Of course, if there are 0 defenders remaining, we know the attacker won the battle! Likewise, if\n",
    "there are defenders remaining, we know the defender held out valiantly enough to make the\n",
    "attacker give up.\n",
    "\n",
    " I personally was unsure if the attacker can choose to continue at the end of every round, or, if their 'pre-set' threshold. It seems that if the threshold wouldn't be necessary as an input if they can choose to stop at at a predetermined number. I have never played risk, so I'm probably not interpretting this correctly. For the purposes of this project, ***I have interpreted that selecting the 'number of people the attacker is willing to lose' as 'stopping the battle when they want'.***\n"
   ]
  },
  {
   "cell_type": "code",
   "execution_count": 1,
   "metadata": {},
   "outputs": [],
   "source": [
    "from random import randint"
   ]
  },
  {
   "cell_type": "markdown",
   "metadata": {},
   "source": [
    "## Method 1"
   ]
  },
  {
   "cell_type": "markdown",
   "metadata": {},
   "source": [
    "\n",
    "This method has the following:\n",
    "- list comprehensions\n",
    "- Uses a **while** loop that loops to simulate each battle\n",
    "- Uses many functions for specific tasks\n"
   ]
  },
  {
   "cell_type": "code",
   "execution_count": 2,
   "metadata": {},
   "outputs": [],
   "source": [
    "from random import randint\n",
    "\n",
    "def die_roll():\n",
    "    return randint(1,6)\n",
    "\n",
    "def dice_outcome(attacker_units, defender_units):\n",
    "    \n",
    "    ####### superscript 1 #########\n",
    "    # this function's if else statements satisfy the subscript 1 labeled above, the number of die\n",
    "    # that an attacker rolls depends on the number of units they have\n",
    "    \n",
    "    if attacker_units ==1:\n",
    "        att_roll_n = 1\n",
    "    elif attacker_units == 2:\n",
    "        att_roll_n = 2\n",
    "    else:\n",
    "        att_roll_n = 3\n",
    "    \n",
    "    ####### superscript 2 #########\n",
    "    # this function's if else statements satisfy the subscript 2 labeled above, the number of die\n",
    "    # that a defender rolls depends on the number of units they have\n",
    "    \n",
    "    if defender_units ==1:\n",
    "        def_roll_n = 1\n",
    "    else:\n",
    "        def_roll_n = 2\n",
    "\n",
    "    # these for loops 'roll' the dice the number of times that was \n",
    "    #determined above in the if/else statements for both teams\n",
    "    att_rolls=sorted([die_roll() for roll in range(0,att_roll_n) ], reverse=True)\n",
    "    def_rolls=sorted([die_roll() for roll in range(0,def_roll_n) ], reverse=True)\n",
    "    \n",
    "    return att_rolls, def_rolls\n",
    "\n",
    "def analyze_dice(att_rolls, def_rolls):\n",
    "   \n",
    "    ####### superscript 4 #########\n",
    "    # this function satisfies superscript 4, matching the highest die, \n",
    "    # then the second die, if both players have a second die\n",
    "    \n",
    "    # set variables for the number of units lost, and set to 0\n",
    "    att_units=0\n",
    "    def_units=0\n",
    "    \n",
    "    # determine the least amount of die either player has, this will be\n",
    "    # the 'number of battles' (ie number of dice to match)\n",
    "    num_of_battles= min((len(att_rolls),len(def_rolls)))\n",
    "    \n",
    "    # battle it out, for how many dice we are battling with\n",
    "    # compare the dice and decrement 1 from the variable created above\n",
    "    for battle in range(0,num_of_battles):\n",
    "        if att_rolls[battle] > def_rolls[battle]:\n",
    "            def_units -=1\n",
    "        else:\n",
    "            att_units -=1\n",
    "    \n",
    "    # return the number of units lost for both teams\n",
    "    return att_units, def_units\n",
    "\n",
    "\n",
    "def adjust_units(team, adjustment):\n",
    "    new = team + adjustment\n",
    "    return new\n",
    "\n",
    "\n",
    "def calculate_risk(attacker_units, risk):\n",
    "    #### superscript 5#########\n",
    "    # fufills superscript 5, the risk number needs to be equal to or less\n",
    "    # than the number of the attacker's units\n",
    "    \n",
    "    # if risk is None or 0 ie - the attacker is willing to risk all their units\n",
    "    # set risk to the number of attacker units\n",
    "    if risk==None or risk == 0 or risk > attacker_units:\n",
    "        risk = attacker_units\n",
    "    return risk\n",
    "                    \n",
    "def play_game(defender_units, attacker_units, risk=None):\n",
    "    \n",
    "   \n",
    "    rolls = 1 # dice count of current game\n",
    "    lost = 0 # attacker units lost\n",
    "    \n",
    "    # set risk amount\n",
    "    risk = calculate_risk(attacker_units, risk)\n",
    "    \n",
    "    #### superscript 6#########\n",
    "    # the 'battles' or rounds continue until there are no players left, or the risk limit is reached\n",
    "    # roll dice until defender has 0 units or attacker has 0 units or reached loss limit\n",
    "    while defender_units > 0 and lost <=risk and attacker_units >0 :\n",
    "        \n",
    "        # roll the dice\n",
    "        att_rolls, def_rolls = dice_outcome(attacker_units, defender_units)\n",
    "        \n",
    "        # determine how many units should be removed from each team\n",
    "        att_units, def_units = analyze_dice(att_rolls,def_rolls)\n",
    "        \n",
    "        # reduce units from total for each team\n",
    "        attacker_units = adjust_units(attacker_units, att_units)\n",
    "        defender_units = adjust_units(defender_units, def_units)\n",
    "        \n",
    "        # add the number of attacker units lost to 'total lost'\n",
    "        lost+=abs(att_units)\n",
    "        \n",
    "        # increment roll count\n",
    "        rolls+=1\n",
    "        \n",
    "    # return attacker and defender units\n",
    "    return attacker_units, defender_units"
   ]
  },
  {
   "cell_type": "code",
   "execution_count": 3,
   "metadata": {},
   "outputs": [
    {
     "data": {
      "text/plain": [
       "(3, 41)"
      ]
     },
     "execution_count": 3,
     "metadata": {},
     "output_type": "execute_result"
    }
   ],
   "source": [
    "play_game(50, 12, 8)"
   ]
  },
  {
   "cell_type": "markdown",
   "metadata": {},
   "source": [
    "# Method 2"
   ]
  },
  {
   "cell_type": "markdown",
   "metadata": {},
   "source": [
    "This method does not have any additional custom functions.\n",
    "- A for loop is used instead of a while loop\n",
    "- no list comprehensions"
   ]
  },
  {
   "cell_type": "code",
   "execution_count": 4,
   "metadata": {},
   "outputs": [],
   "source": [
    "import numpy as np\n",
    "def play_game_2(defender_units, attacker_units, risk):\n",
    "    info = [defender_units, attacker_units, risk]\n",
    "    \n",
    "    # set risk to the number of attack units to satisfy the requirement\n",
    "    if risk > attacker_units:\n",
    "        risk= attacker_units\n",
    "    \n",
    "    lost = 0 # keep track of how many units the attacker has lost\n",
    "    \n",
    "\n",
    "    # battle until the end, I use 'attacker_units'\n",
    "    for unit in range(attacker_units*10):\n",
    "        \n",
    "        if attacker_units ==1:\n",
    "            att_roll_n = 1\n",
    "        elif attacker_units == 2:\n",
    "            att_roll_n = 2\n",
    "        else:\n",
    "            att_roll_n = 3\n",
    "        \n",
    "        if defender_units ==1:\n",
    "            def_roll_n = 1\n",
    "        else:\n",
    "            def_roll_n = 2\n",
    "\n",
    "        att_rolls = np.random.randint(1,6,att_roll_n)\n",
    "        def_rolls = np.random.randint(1,6,def_roll_n)\n",
    "        \n",
    "        att_rolls = sorted(att_rolls, reverse=True)\n",
    "        def_rolls = sorted(def_rolls, reverse=True)\n",
    "        \n",
    "\n",
    "\n",
    "\n",
    "\n",
    "        # determine the least amount of die either player has, this will be\n",
    "        # the 'number of battles' (ie number of dice to match)\n",
    "        num_of_battles= min((len(att_rolls),len(def_rolls)))\n",
    "\n",
    "        # battle it out, for how many dice we are battling with\n",
    "        # compare the dice and decrement 1 from the variable created above\n",
    "        for battle in range(0,num_of_battles):\n",
    "        \n",
    "            if att_rolls[battle] > def_rolls[battle]:\n",
    "                defender_units = defender_units - 1\n",
    "                if defender_units ==0:\n",
    "                    print('Attackers Win!')\n",
    "                    return attacker_units, defender_units\n",
    "            else:\n",
    "                attacker_units = attacker_units - 1\n",
    "                lost = lost + 1\n",
    "                if attacker_units == 0:\n",
    "                    print('Defenders Win!')\n",
    "                    return attacker_units, defender_units\n",
    "                if lost ==risk and attacker_units != 0:\n",
    "                    print('Attackers retreat! Defenders Win!')\n",
    "                    return attacker_units, defender_units\n",
    "     \n",
    "    return 'special case',attacker_units, defender_units, info\n",
    "    "
   ]
  },
  {
   "cell_type": "code",
   "execution_count": 5,
   "metadata": {},
   "outputs": [
    {
     "data": {
      "text/plain": [
       "(4, 0)"
      ]
     },
     "execution_count": 5,
     "metadata": {},
     "output_type": "execute_result"
    }
   ],
   "source": [
    "play_game_2(20,20,20)"
   ]
  },
  {
   "cell_type": "markdown",
   "metadata": {},
   "source": [
    "### Who wins the most?"
   ]
  },
  {
   "cell_type": "markdown",
   "metadata": {},
   "source": [
    " Simulate 10,000 games with random army sizes between 1 and 200. Armies are not more/less than 10% of each other."
   ]
  },
  {
   "cell_type": "code",
   "execution_count": 6,
   "metadata": {},
   "outputs": [],
   "source": [
    "results = []\n",
    "for i in range(10000):\n",
    "    attackers = np.random.randint(10, 200)\n",
    "    defenders = np.random.randint(int(attackers*.9), int(attackers*1.1))\n",
    "    results.append(bool(play_game(defenders, attackers, attackers)[0])*1)\n",
    "    "
   ]
  },
  {
   "cell_type": "code",
   "execution_count": 7,
   "metadata": {
    "scrolled": false
   },
   "outputs": [
    {
     "name": "stdout",
     "output_type": "stream",
     "text": [
      "Attackers won 81.15% of the time and Defenders won 18.85% of the time\n"
     ]
    }
   ],
   "source": [
    "attacker_score = np.mean(results)*100\n",
    "defender_score = (1-np.mean(results))*100\n",
    "print('Attackers won {:.2f}% of the time and Defenders won {:.2f}% of the time'.format(attacker_score, defender_score))"
   ]
  },
  {
   "cell_type": "markdown",
   "metadata": {},
   "source": [
    "## What about if the armies stayed the same?"
   ]
  },
  {
   "cell_type": "code",
   "execution_count": 8,
   "metadata": {},
   "outputs": [],
   "source": [
    "results = []\n",
    "for i in range(10000):\n",
    "    results.append(bool(play_game(50, 50, 50)[0])*1)"
   ]
  },
  {
   "cell_type": "code",
   "execution_count": 9,
   "metadata": {},
   "outputs": [
    {
     "name": "stdout",
     "output_type": "stream",
     "text": [
      "Attackers won 73.72% of the time and Defenders won 26.28% of the time\n"
     ]
    }
   ],
   "source": [
    "attacker_score = np.mean(results)*100\n",
    "defender_score = (1-np.mean(results))*100\n",
    "print('Attackers won {:.2f}% of the time and Defenders won {:.2f}% of the time'.format(attacker_score, defender_score))"
   ]
  },
  {
   "cell_type": "markdown",
   "metadata": {},
   "source": [
    "### So how many units would be needed above attackers, for defenders to have a 50/50 chance of winning?"
   ]
  }
 ],
 "metadata": {
  "kernelspec": {
   "display_name": "Python 3",
   "language": "python",
   "name": "python3"
  },
  "language_info": {
   "codemirror_mode": {
    "name": "ipython",
    "version": 3
   },
   "file_extension": ".py",
   "mimetype": "text/x-python",
   "name": "python",
   "nbconvert_exporter": "python",
   "pygments_lexer": "ipython3",
   "version": "3.6.7"
  }
 },
 "nbformat": 4,
 "nbformat_minor": 2
}
