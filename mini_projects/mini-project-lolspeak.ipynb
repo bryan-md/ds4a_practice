{
 "cells": [
  {
   "cell_type": "markdown",
   "metadata": {},
   "source": [
    "# English-to-Lolspeak"
   ]
  },
  {
   "cell_type": "markdown",
   "metadata": {},
   "source": [
    "- Your program must be able to read in a plain-text file in English\n",
    "- Translate it\n",
    "- Produce another text file in Lolcat, regardless of the length of the text (i.e. it should be able to translate an entire book if needed). \n",
    "- Your program should take the path of the file as its only argument\n",
    "- Save the resulting translated file in the same path with the same name, except with a _lolcat suffix. For instance, if the input file is called hamlet.txt, the output file must be called hamlet_lolcat.txt.\n",
    "\n",
    "Inputs: a path to a text file (in the same directory as the program)\n",
    "Output: a new file with the original filename and *_lolcat.txt* attached to the end.\n"
   ]
  },
  {
   "cell_type": "code",
   "execution_count": null,
   "metadata": {},
   "outputs": [],
   "source": [
    "def translate_text():\n",
    "    #import needed packages\n",
    "    \n",
    "    import json\n",
    "    import requests\n",
    "    \n",
    "    #import/make the lol speak dictionary\n",
    "    url = \"https://raw.githubusercontent.com/normansimonr/Dumb-Cogs/master/lolz/data/tranzlashun.json\"\n",
    "    data = requests.get(url)\n",
    "    cat_dict = json.loads(data.text)\n",
    "    \n",
    "    # update the dictionary to include capitalized and uppercase letters\n",
    "    capital_dict = {k.capitalize(): v.capitalize() for k,v in cat_dict.items()}\n",
    "    all_caps_dict = {k.upper(): v.upper() for k,v in cat_dict.items()}\n",
    "    cat_dict = {**cat_dict,**capital_dict, **all_caps_dict}\n",
    "    \n",
    "    # delete keys that have one letter, such as 'a' and change so that it has a space before and after ' a '.\n",
    "    to_delete = []\n",
    "    for k,v in cat_dict.items():\n",
    "        if len(k) == 1:\n",
    "            to_delete.append((k,v))\n",
    "\n",
    "    for k,v in to_delete:\n",
    "        cat_dict[' '+k+' '] = ' '\n",
    "        del cat_dict[k]\n",
    "        \n",
    "        \n",
    "    user_file = input('What file do you want to translate?')\n",
    "    file_read = open(user_file, 'r', encoding='utf-8-sig')\n",
    "    \n",
    "    save_fn=user_file.split('.')[0]+'_lolcat.txt'\n",
    "    file_write = open(save_fn, 'w')\n",
    "    \n",
    "    text_in = file_read.readlines()\n",
    "    for line in text_in:\n",
    "        temp_line = line\n",
    "        for word in cat_dict.keys():\n",
    "            if word in line:\n",
    "                temp_line = temp_line.replace(word,cat_dict[word])\n",
    "        file_write.write(temp_line)\n",
    "    file_write.close()\n",
    "    file_read.close()"
   ]
  }
 ],
 "metadata": {
  "kernelspec": {
   "display_name": "Python 3",
   "language": "python",
   "name": "python3"
  },
  "language_info": {
   "codemirror_mode": {
    "name": "ipython",
    "version": 3
   },
   "file_extension": ".py",
   "mimetype": "text/x-python",
   "name": "python",
   "nbconvert_exporter": "python",
   "pygments_lexer": "ipython3",
   "version": "3.6.7"
  }
 },
 "nbformat": 4,
 "nbformat_minor": 2
}
