{
 "cells": [
  {
   "cell_type": "markdown",
   "metadata": {},
   "source": [
    "# Encryption / Decription Mini Project"
   ]
  },
  {
   "cell_type": "markdown",
   "metadata": {},
   "source": [
    "The encryption script should:\n",
    "- Take a string as user input (you can use Python’s input() function for that)\n",
    "- Then print the cipher\n",
    "\n",
    "The decypt script should:\n",
    "- Take the cipher as user input\n",
    "- Print the original message. \n",
    "    Since the cipher is a list of integers, the description script must have some way of reading the cipher one element at a time (e.g. by separating the numbers with commas 33,66,77,88)."
   ]
  },
  {
   "cell_type": "code",
   "execution_count": 1,
   "metadata": {},
   "outputs": [],
   "source": [
    "from math import gcd\n",
    "import math\n",
    "from string import ascii_lowercase, ascii_uppercase\n",
    "import random\n",
    "\n",
    "def calculate_phi(p,q):\n",
    "    return (p-1)*(q-1)\n",
    "\n",
    "def calculate_e(phi):\n",
    "    \n",
    "    for n in range(2,phi):\n",
    "        if gcd(phi,n)==1 and phi%n!=0 and n < phi:\n",
    "            return n\n",
    "\n",
    "def encrypt(phrase,public_key,c):\n",
    "    n,e = public_key\n",
    "    numbers=[c[letter] for letter in phrase]\n",
    "    encrypted = [number**e % n for number in numbers]\n",
    "    \n",
    "    return encrypted\n",
    "\n",
    "def create_cipher():\n",
    "    \"\"\" \n",
    "    Function to return a cipher\n",
    "    Arguments: None\n",
    "    Outputs: a dictionary containing letters a-z,A-Z and space as  keys and 1-53 as values\n",
    "    \"\"\"\n",
    "    #create two lists of upper and lower case letters\n",
    "    lc=list(ascii_lowercase) \n",
    "    uc=list(ascii_uppercase)\n",
    "\n",
    "    # create 2 dictionaries of letters/values\n",
    "    dict_one = {letter:value for letter,value in zip(lc, list(range(1,len(lc)+1)))}\n",
    "    dict_two = {letter:value for letter,value in zip(uc, [value + len(lc) for value in list(range(1,len(uc)+1))])}\n",
    "    \n",
    "    # combine the dictionaries\n",
    "    c={**dict_one, **dict_two}\n",
    "    c[' ']=len(c.keys())+1 # add space to the final dictionary\n",
    "    \n",
    "    return c\n",
    "\n",
    "def decrypt_values(encrypted_values,private_key,n):\n",
    "    \"\"\"\n",
    "    a function to decrypt encrypted values\n",
    "    arguments: encrypted_values: a list of encrypted values,\n",
    "            private_key: the private key to use for decyption,\n",
    "            n: part of the public key to use for decryption\n",
    "    outputs:a list of decrypted values\n",
    "    \"\"\"\n",
    "    return [number**private_key % n for number in encrypted_values]\n",
    "\n",
    "def convert_to_text(decrypted,cipher):\n",
    "    \"\"\"\n",
    "    a function to convert the unencrypted values to text\n",
    "    arguments: \n",
    "            decrypted: a list of values to use for translation\n",
    "            cipher: the cipher to be used for translation\n",
    "    outputs: the unencrypted message as a string\n",
    "    \"\"\"\n",
    "    phrase = [list(cipher.keys())[list(cipher.values()).index(number)] if number in cipher.values() else random.choice(ascii_lowercase) for number in decrypted]\n",
    "    return ''.join(phrase)\n",
    "\n",
    "\n",
    "\n",
    "\n",
    "def create_pk(phi, e):\n",
    "    for i in range(1,phi):\n",
    "        if (i*phi+1) % e ==0:\n",
    "            return int((i*phi+1)/e)\n",
    "    \n",
    "\n",
    "def create_cipher():\n",
    "    lc=list(ascii_lowercase)\n",
    "    uc=list(ascii_uppercase)\n",
    "\n",
    "\n",
    "\n",
    "    dict_one = {letter:value for letter,value in zip(lc, list(range(1,len(lc)+1)))}\n",
    "    dict_two = {letter:value for letter,value in zip(uc, [value + len(lc) for value in list(range(1,len(uc)+1))])}\n",
    "    c={**dict_one, **dict_two}\n",
    "    c[' ']=len(c.keys())+1\n",
    "    \n",
    "    return c\n",
    "\n",
    "\n",
    "def encryption():\n",
    "    \"\"\"\n",
    "    A function to encrypt text\n",
    "    \n",
    "    Arguments:\n",
    "    None, user will input text via prompt\n",
    "    \n",
    "    Outputs:\n",
    "    List of encrypted letters of original text\n",
    "    \"\"\"\n",
    "    p, q = 271, 277 # pair of prime numbers\n",
    "    n = p*q\n",
    "    \n",
    "    phi = calculate_phi(p,q) #calculate phi\n",
    "                        \n",
    "    e = calculate_e(phi) # calculate e\n",
    "                        \n",
    "    public_key = (n, e) # public key\n",
    "    \n",
    "#     private_key = create_pk(phi, e) # create the private key\n",
    "\n",
    "    \n",
    "    c=create_cipher() # create the dictionary cipher\n",
    "    \n",
    "    text=input('Enter your message: ') # ask for input text\n",
    "    \n",
    "    \n",
    "    print('Your message: {}\\n Encrypted text: {}'.format(text, encrypt(text,public_key,c))) # encrypt the text and return\n",
    "\n",
    "\n",
    "def decrypt():\n",
    "    \"\"\"\n",
    "    Function to decrypt encrypted text with the necessary private key\n",
    "    Arguments: encrypted(list), a list of encrypted values\n",
    "    Outputs: decrypted text\n",
    "    \"\"\"\n",
    "    # private key information is hard coded, can be adjusted to use any private key\n",
    "    n=75067\n",
    "    private_key = 42583\n",
    "    \n",
    "    # prompt for the encrypted number\n",
    "    encrypted = input('Enter your encrypted message as a list of numbers separated by commas. ie 23,55,32,54\\n')\n",
    "    \n",
    "    # change the input into a list of integers\n",
    "    if '[' in encrypted or ']'in encrypted:\n",
    "        encrypted = encrypted.strip('[]').split(',')\n",
    "    else:\n",
    "        encrypted = encrypted.split(',')\n",
    "        \n",
    "    encrypted = [int(num) for num in encrypted]\n",
    "\n",
    "    decrypted = decrypt_values(encrypted, private_key, n) # decrypt the values using private key\n",
    "    \n",
    "    cipher = create_cipher() # create the cipher to be used\n",
    "    \n",
    "    unencrypted_text = convert_to_text(decrypted,cipher) # translate the unencrypted values to letters\n",
    "    \n",
    "    return ''.join(unencrypted_text) # join the letters and return the unencrypted text"
   ]
  },
  {
   "cell_type": "code",
   "execution_count": 2,
   "metadata": {
    "scrolled": true
   },
   "outputs": [
    {
     "name": "stdout",
     "output_type": "stream",
     "text": [
      "Enter your message: This is the COMPLETED mini project for DS for all\n",
      "Your message: This is the COMPLETED mini project for DS for all\n",
      " Encrypted text: [49311, 70343, 53748, 48970, 42892, 53748, 48970, 42892, 32583, 70343, 3058, 42892, 5178, 73746, 48108, 18610, 37599, 33142, 49311, 33142, 55287, 42892, 67572, 53748, 19436, 53748, 42892, 70931, 48647, 6883, 16089, 3058, 2187, 32583, 42892, 54735, 6883, 48647, 42892, 55287, 39721, 42892, 54735, 6883, 48647, 42892, 1, 24849, 24849]\n"
     ]
    }
   ],
   "source": [
    "encryption()"
   ]
  },
  {
   "cell_type": "code",
   "execution_count": 3,
   "metadata": {},
   "outputs": [
    {
     "name": "stdout",
     "output_type": "stream",
     "text": [
      "Enter your encrypted message as a list of numbers separated by commas. ie 23,55,32,54\n",
      "[49311, 70343, 53748, 48970, 42892, 53748, 48970, 42892, 32583, 70343, 3058, 42892, 5178, 73746, 48108, 18610, 37599, 33142, 49311, 33142, 55287, 42892, 67572, 53748, 19436, 53748, 42892, 70931, 48647, 6883, 16089, 3058, 2187, 32583, 42892, 54735, 6883, 48647, 42892, 55287, 39721, 42892, 54735, 6883, 48647, 42892, 1, 24849, 24849]\n"
     ]
    },
    {
     "data": {
      "text/plain": [
       "'This is the COMPLETED mini project for DS for all'"
      ]
     },
     "execution_count": 3,
     "metadata": {},
     "output_type": "execute_result"
    }
   ],
   "source": [
    "decrypt()"
   ]
  }
 ],
 "metadata": {
  "kernelspec": {
   "display_name": "Python 3",
   "language": "python",
   "name": "python3"
  },
  "language_info": {
   "codemirror_mode": {
    "name": "ipython",
    "version": 3
   },
   "file_extension": ".py",
   "mimetype": "text/x-python",
   "name": "python",
   "nbconvert_exporter": "python",
   "pygments_lexer": "ipython3",
   "version": "3.6.7"
  }
 },
 "nbformat": 4,
 "nbformat_minor": 2
}
