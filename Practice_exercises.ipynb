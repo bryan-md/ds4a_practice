{
 "cells": [
  {
   "cell_type": "code",
   "execution_count": 10,
   "metadata": {},
   "outputs": [],
   "source": [
    "import requests\n",
    "\n",
    "url = 'https://raw.githubusercontent.com/bryan-md/ds4a_practice/main/tweets.txt'\n",
    "data = requests.get(url).content.decode('utf-8')\n",
    "tweets=data.split('\\t')"
   ]
  },
  {
   "cell_type": "code",
   "execution_count": 11,
   "metadata": {},
   "outputs": [
    {
     "data": {
      "text/plain": [
       "70"
      ]
     },
     "execution_count": 11,
     "metadata": {},
     "output_type": "execute_result"
    }
   ],
   "source": [
    "len(tweets)"
   ]
  },
  {
   "cell_type": "code",
   "execution_count": 12,
   "metadata": {},
   "outputs": [
    {
     "data": {
      "text/plain": [
       "list"
      ]
     },
     "execution_count": 12,
     "metadata": {},
     "output_type": "execute_result"
    }
   ],
   "source": [
    "type(tweets)"
   ]
  },
  {
   "cell_type": "markdown",
   "metadata": {},
   "source": [
    "## Practice 1"
   ]
  },
  {
   "cell_type": "markdown",
   "metadata": {},
   "source": [
    "You are starting work on analyzing some twitter data about the coronavirus. You quickly find that people refer to the coronavirus with different terms. covid-19, covid, coravirus etc. \n",
    "\n",
    "Natural Language Processing analysis heavily relies on word frequencies. In order for your analysis to be more accurate, you need to convert the different spelling variations of coronavirus to one single spelling in all of the tweets.\n",
    "\n",
    "1. Write a function that will change one tweet by replacing the different variations of the the word coronavirus with 'coronavirus'.\n",
    "2. Use your function on 'tweets' to adjust all of the variations of 'coronavirus'.\n",
    "\n",
    "Bonus things to try:\n",
    "- Fix the varitions of the mention of coronavirus in hashtags\n",
    "\n"
   ]
  },
  {
   "cell_type": "markdown",
   "metadata": {},
   "source": [
    "Different possible versions of the spelling of coronavirus that is possibly in the tweets: <br>\n",
    "*'corona ','carona','corona virus','covid 19','covid19','covid-19','corona19','caronavirus','covid','caronav '*"
   ]
  },
  {
   "cell_type": "markdown",
   "metadata": {},
   "source": [
    "Example Tweet:\n",
    " >*@bingo_its @4ireland82 @goodiedaman @AlexBerenson The mRna vaccines (phyzer &amp; moderna) target a specific \"spike\" protein on the outside of the covid virus. This guy got antibodies to that protein from his vaccination. It looks like his previous covid infection generated different antibodies, likely to a different surface protein*"
   ]
  },
  {
   "cell_type": "code",
   "execution_count": null,
   "metadata": {},
   "outputs": [],
   "source": []
  },
  {
   "cell_type": "code",
   "execution_count": null,
   "metadata": {},
   "outputs": [],
   "source": []
  },
  {
   "cell_type": "code",
   "execution_count": null,
   "metadata": {},
   "outputs": [],
   "source": []
  },
  {
   "cell_type": "code",
   "execution_count": null,
   "metadata": {},
   "outputs": [],
   "source": []
  },
  {
   "cell_type": "markdown",
   "metadata": {},
   "source": [
    "## Practice 2"
   ]
  },
  {
   "cell_type": "markdown",
   "metadata": {},
   "source": [
    "Prepping data for a model, need all of the data to be numerical. You have a field labeled 'age' and the data is saved as numerical ranges. They are: <br>*'Under 18', '18 - 24','25-30','31-35','36-40','41 and over'* <br><br>\n",
    "You need to convert these string ranges into numbers.\n",
    "1. Create a function that will calculate the average age of each age range\n",
    "    - Determine how you handle the end ranges ('under 18' or '41 and over')\n",
    "2. Use the function on the list 'age' to convert each element"
   ]
  },
  {
   "cell_type": "code",
   "execution_count": 29,
   "metadata": {},
   "outputs": [],
   "source": [
    "url = 'https://raw.githubusercontent.com/bryan-md/ds4a_practice/main/age.txt'\n",
    "data = requests.get(url).content.decode('utf-8')\n",
    "age = data.split('\\r')\n",
    "age = [x.strip() for x in age]"
   ]
  },
  {
   "cell_type": "code",
   "execution_count": 31,
   "metadata": {},
   "outputs": [
    {
     "data": {
      "text/plain": [
       "88"
      ]
     },
     "execution_count": 31,
     "metadata": {},
     "output_type": "execute_result"
    }
   ],
   "source": [
    "len(age)"
   ]
  },
  {
   "cell_type": "code",
   "execution_count": 32,
   "metadata": {},
   "outputs": [
    {
     "data": {
      "text/plain": [
       "list"
      ]
     },
     "execution_count": 32,
     "metadata": {},
     "output_type": "execute_result"
    }
   ],
   "source": [
    "type(age)"
   ]
  },
  {
   "cell_type": "code",
   "execution_count": null,
   "metadata": {},
   "outputs": [],
   "source": []
  },
  {
   "cell_type": "code",
   "execution_count": null,
   "metadata": {},
   "outputs": [],
   "source": []
  },
  {
   "cell_type": "code",
   "execution_count": null,
   "metadata": {},
   "outputs": [],
   "source": []
  },
  {
   "cell_type": "code",
   "execution_count": null,
   "metadata": {},
   "outputs": [],
   "source": []
  }
 ],
 "metadata": {
  "kernelspec": {
   "display_name": "Python 3",
   "language": "python",
   "name": "python3"
  },
  "language_info": {
   "codemirror_mode": {
    "name": "ipython",
    "version": 3
   },
   "file_extension": ".py",
   "mimetype": "text/x-python",
   "name": "python",
   "nbconvert_exporter": "python",
   "pygments_lexer": "ipython3",
   "version": "3.6.7"
  }
 },
 "nbformat": 4,
 "nbformat_minor": 2
}
